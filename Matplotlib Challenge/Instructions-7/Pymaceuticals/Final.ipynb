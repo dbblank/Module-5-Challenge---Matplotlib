{
 "cells": [
  {
   "cell_type": "markdown",
   "metadata": {},
   "source": [
    "## Observations and Insights "
   ]
  },
  {
   "cell_type": "markdown",
   "metadata": {},
   "source": []
  },
  {
   "cell_type": "code",
   "execution_count": null,
   "metadata": {},
   "outputs": [],
   "source": [
    "# Dependencies and Setup\n",
    "import matplotlib.pyplot as plt\n",
    "import pandas as pd\n",
    "import scipy.stats as st\n",
    "\n",
    "# Study data files\n",
    "mouse_metadata_path = \"data/Mouse_metadata.csv\"\n",
    "study_results_path = \"data/Study_results.csv\"\n",
    "\n",
    "# Read the mouse data and the study results\n",
    "mouse_metadata = pd.read_csv(mouse_metadata_path)\n",
    "study_results = pd.read_csv(study_results_path)\n",
    "\n",
    "# Combine the data into a single dataset\n",
    "complete_data=pd.merge(study_results,mouse_metadata,on='Mouse ID',how='left')\n",
    "# Display the data table for preview\n",
    "complete_data"
   ]
  },
  {
   "cell_type": "code",
   "execution_count": null,
   "metadata": {},
   "outputs": [],
   "source": [
    "# Checking the number of mice.\n",
    "number_of_mice=len(complete_data['Mouse ID'].unique())\n",
    "number_of_mice"
   ]
  },
  {
   "cell_type": "code",
   "execution_count": null,
   "metadata": {},
   "outputs": [],
   "source": [
    "# Getting the duplicate mice by ID number that shows up for Mouse ID and Timepoint. \n",
    "time_points=complete_data[\"Timepoint\"].value_counts()\n",
    "number_of_time_ID_appears=complete_data['Mouse ID'].value_counts()\n",
    "number_of_time_ID_appears=number_of_time_ID_appears.reset_index()\n",
    "\n",
    "duplicate_mice_row=number_of_time_ID_appears.loc[number_of_time_ID_appears['Mouse ID']>len(time_points)]\n",
    "duplicate_mice_ID=duplicate_mice_row.iloc[0,0]\n",
    "duplicate_mice_ID"
   ]
  },
  {
   "cell_type": "code",
   "execution_count": null,
   "metadata": {},
   "outputs": [],
   "source": [
    "# Optional: Get all the data for the duplicate mouse ID. \n",
    "all_data_for_duplicate_mice=complete_data.loc[complete_data['Mouse ID']==duplicate_mice_ID]\n",
    "all_data_for_duplicate_mice"
   ]
  },
  {
   "cell_type": "code",
   "execution_count": null,
   "metadata": {},
   "outputs": [],
   "source": [
    "# Create a clean DataFrame by dropping the duplicate mouse by its ID.\n",
    "complete_data_clean=complete_data.loc[complete_data['Mouse ID']!=duplicate_mice_ID]\n",
    "complete_data_clean"
   ]
  },
  {
   "cell_type": "code",
   "execution_count": null,
   "metadata": {},
   "outputs": [],
   "source": [
    "# Checking the number of mice in the clean DataFrame.\n",
    "len(complete_data_clean[\"Mouse ID\"].unique())"
   ]
  },
  {
   "cell_type": "markdown",
   "metadata": {},
   "source": [
    "## Summary Statistics"
   ]
  },
  {
   "cell_type": "code",
   "execution_count": null,
   "metadata": {},
   "outputs": [],
   "source": [
    "# Generate a summary statistics table of mean, median, variance, standard deviation, and SEM of the tumor volume for each regimen\n",
    "\n",
    "tumor_response_mean_df = pd.DataFrame(complete_data.groupby(['Drug Regimen', 'Timepoint'])['Tumor Volume (mm3)'].mean())\n",
    "tumor_response_mean_df = tumor_response_mean_df.reset_index()\n",
    "tumor_response_mean_df.rename(columns={\"Tumor Volume (mm3)\" : \"Mean Tumor Volume (mm3)\"},inplace=True)\n",
    "tumor_response_mean_df.head(10)\n",
    "tumor_response_median_df = pd.DataFrame(complete_data_clean.groupby(['Drug Regimen', 'Timepoint'])['Tumor Volume (mm3)'].median())\n",
    "tumor_response_median_df = tumor_response_median_df.reset_index()\n",
    "tumor_response_median_df.rename(columns={\"Tumor Volume (mm3)\" : \"Median Tumor Volume (mm3)\"},inplace=True)\n",
    "tumor_response_median_df.head(10)\n",
    "tumor_response_std_df = pd.DataFrame(complete_data_clean.groupby(['Drug Regimen', 'Timepoint'])['Tumor Volume (mm3)'].std())\n",
    "tumor_response_std_df = tumor_response_std_df.reset_index()\n",
    "tumor_response_std_df.rename(columns={\"Tumor Volume (mm3)\" : \"Tumor Volume-STDEV\"},inplace=True)\n",
    "tumor_response_std_df.head(10)\n",
    "tumor_response_var_df = pd.DataFrame(complete_data_clean.groupby(['Drug Regimen', 'Timepoint'])['Tumor Volume (mm3)'].var())\n",
    "tumor_response_var_df = tumor_response_var_df.reset_index()\n",
    "tumor_response_var_df.rename(columns={\"Tumor Volume (mm3)\" : \"Tumor Volume-VAR\"},inplace=True)\n",
    "tumor_response_var_df.head(10)\n",
    "tumor_response_sem_df = pd.DataFrame(complete_data_clean.groupby(['Drug Regimen', 'Timepoint'])['Tumor Volume (mm3)'].sem())\n",
    "tumor_response_sem_df = tumor_response_sem_df.reset_index()\n",
    "tumor_response_sem_df.rename(columns={\"Tumor Volume (mm3)\" : \"Tumor Volume-SEM\"},inplace=True)\n",
    "tumor_response_sem_df.head(10)\n",
    "\n",
    "# Use groupby and summary statistical methods to calculate the following properties of each drug regimen: \n",
    "# mean, median, variance, standard deviation, and SEM of the tumor volume. \n",
    "# Assemble the resulting series into a single summary dataframe.\n",
    "\n",
    "tumor_response_summary_df = pd.merge(tumor_response_mean_df, tumor_response_median_df, on=['Drug Regimen','Timepoint'])\n",
    "tumor_response_summary_df = pd.merge(tumor_response_summary_df, tumor_response_std_df, on=['Drug Regimen','Timepoint'])\n",
    "tumor_response_summary_df = pd.merge(tumor_response_summary_df, tumor_response_var_df, on=['Drug Regimen','Timepoint'])\n",
    "tumor_response_summary_df = pd.merge(tumor_response_summary_df, tumor_response_sem_df, on=['Drug Regimen','Timepoint'])\n",
    "tumor_response_summary_df.head(20)"
   ]
  },
  {
   "cell_type": "code",
   "execution_count": null,
   "metadata": {},
   "outputs": [],
   "source": [
    "# Generate a summary statistics table of mean, median, variance, standard deviation, and SEM of the tumor volume for each regimen\n",
    "\n",
    "# Using the aggregation method, produce the same summary statistics in a single line\n",
    "\n",
    "summarystats = pd.DataFrame(complete_data_clean.groupby(\"Drug Regimen\").count())\n",
    "\n",
    "#Use groupby to create summary stats by drug regime, add results into columns in summarystats\n",
    "\n",
    "summarystats[\"Mean\"] = pd.DataFrame(complete_data_clean.groupby(\"Drug Regimen\")[\"Tumor Volume (mm3)\"].mean())\n",
    "summarystats[\"Median\"] = pd.DataFrame(complete_data_clean.groupby(\"Drug Regimen\")[\"Tumor Volume (mm3)\"].median())\n",
    "summarystats[\"Standard Deviation\"] = pd.DataFrame(complete_data_clean.groupby(\"Drug Regimen\")[\"Tumor Volume (mm3)\"].std())\n",
    "summarystats[\"Variance\"] = pd.DataFrame(complete_data_clean.groupby(\"Drug Regimen\")[\"Tumor Volume (mm3)\"].var())\n",
    "summarystats[\"SEM\"] = pd.DataFrame(complete_data_clean.groupby(\"Drug Regimen\")[\"Tumor Volume (mm3)\"].sem())\n",
    "\n",
    "summarystats = summarystats[[\"Mouse ID\", \"Mean\", \"Median\", \"Standard Deviation\", \"Variance\", \"SEM\"]]\n",
    "summarystats = summarystats.rename(columns = {\"Mouse ID\" : \"Trials\"})\n",
    "summarystats.head()"
   ]
  },
  {
   "cell_type": "markdown",
   "metadata": {},
   "source": [
    "## Bar and Pie Charts"
   ]
  },
  {
   "cell_type": "code",
   "execution_count": null,
   "metadata": {},
   "outputs": [],
   "source": [
    "# Generate a bar plot showing the total number of timepoints for all mice tested for each drug regimen using Pandas.\n",
    "\n",
    "number_of_mice_per_treatment=summarystats.iloc[:,0]\n",
    "number_of_mice_per_treatment.plot(kind='bar',title='Number of Mice for Drug Regimen',color='g',alpha=.5)\n",
    "plt.show()\n"
   ]
  },
  {
   "cell_type": "code",
   "execution_count": null,
   "metadata": {},
   "outputs": [],
   "source": [
    "# Generate a bar plot showing the total number of timepoints for all mice tested for each drug regimen using pyplot.\n",
    "\n",
    "import numpy as np\n",
    "Drug_Regimen=summarystats.reset_index().iloc[:,0].to_list()\n",
    "x_axis=np.arange(len(Drug_Regimen))\n",
    "plt.bar(x_axis,number_of_mice_per_treatment,color='g',alpha=.5)\n",
    "plt.xticks(x_axis,['Capomulin',\n",
    " 'Ceftamin',\n",
    " 'Infubinol',\n",
    " 'Ketapril',\n",
    " 'Naftisol',\n",
    " 'Placebo',\n",
    " 'Propriva',\n",
    " 'Ramicane',\n",
    " 'Stelasyn',\n",
    " 'Zoniferol'],rotation='vertical')"
   ]
  },
  {
   "cell_type": "code",
   "execution_count": null,
   "metadata": {},
   "outputs": [],
   "source": [
    "# Generate a pie plot showing the distribution of female versus male mice using Pandas\n",
    "\n",
    "pie_panda = complete_data_clean[\"Sex\"].value_counts().plot.pie()\n"
   ]
  },
  {
   "cell_type": "code",
   "execution_count": null,
   "metadata": {},
   "outputs": [],
   "source": [
    "# Generate a pie plot showing the distribution of female versus male mice using pyplot\n",
    "\n",
    "plt.title(\"Sex\")\n",
    "plt.pie(complete_data_clean[\"Sex\"].value_counts(), autopct=\"%1.1f%%\", shadow=True, startangle=140, labels=[\"Male\",\"Female\"])\n",
    "plt.axis(\"equal\")\n",
    "plt.show()\n",
    "plt.savefig('Demographics-Pie')\n"
   ]
  },
  {
   "cell_type": "markdown",
   "metadata": {},
   "source": [
    "## Quartiles, Outliers and Boxplots"
   ]
  },
  {
   "cell_type": "code",
   "execution_count": null,
   "metadata": {},
   "outputs": [],
   "source": [
    "# Calculate the final tumor volume of each mouse across four of the treatment regimens:  \n",
    "# Capomulin, Ramicane, Infubinol, and Ceftamin\n",
    "\n",
    "# Start by getting the last (greatest) timepoint for each mouse\n",
    "\n",
    "\n",
    "# Merge this group df with the original dataframe to get the tumor volume at the last timepoint"
   ]
  },
  {
   "cell_type": "code",
   "execution_count": null,
   "metadata": {},
   "outputs": [],
   "source": [
    "# Put treatments into a list for for loop (and later for plot labels)\n",
    "\n",
    "\n",
    "# Create empty list to fill with tumor vol data (for plotting)\n",
    "\n",
    "\n",
    "# Calculate the IQR and quantitatively determine if there are any potential outliers. \n",
    "\n",
    "    \n",
    "    # Locate the rows which contain mice on each drug and get the tumor volumes\n",
    "    \n",
    "    \n",
    "    # add subset \n",
    "    \n",
    "    \n",
    "    # Determine outliers using upper and lower bounds\n",
    "\n",
    "    "
   ]
  },
  {
   "cell_type": "code",
   "execution_count": null,
   "metadata": {},
   "outputs": [],
   "source": [
    "# Generate a box plot of the final tumor volume of each mouse across four regimens of interest\n",
    "data_to_plot = [cap_tum_vol, ram_tum_vol, inf_tum_vol, cef_tum_vol]\n",
    "\n",
    "fig1, ax1 = plt.subplots()\n",
    "ax1.set_title('Tumors')\n",
    "ax1.set_ylabel('Final Tumor Volume (mm3)')\n",
    "ax1.set_xlabel('Drug Regimen')\n",
    "\n",
    "ax1.boxplot(data_to_plot, labels=[\"Capomulin\",\"Ramicane\",\"Infubinol\",\"Ceftamin\",])\n",
    "\n",
    "plt.savefig('Final Tumor Volume by Drugs')\n",
    "plt.show()"
   ]
  },
  {
   "cell_type": "markdown",
   "metadata": {},
   "source": [
    "## Line and Scatter Plots"
   ]
  },
  {
   "cell_type": "code",
   "execution_count": null,
   "metadata": {},
   "outputs": [],
   "source": [
    "# Generate a line plot of tumor volume vs. time point for a mouse treated with Capomulin\n",
    "cap_df.head(20) #look at head to identify any mouse ID\n",
    "plot_df = cap_df.loc[cap_df[\"Mouse ID\"] == \"s185\",:]\n",
    "plot_df\n",
    "plt.title('Tumor Volume with Capomulin over time')\n",
    "plt.plot(plot_df[\"Timepoint\"], plot_df[\"Tumor Volume (mm3)\"],linewidth=2, markersize=12)\n",
    "plt.xlabel('Time (Days)')\n",
    "plt.ylabel('Tumor Volume (mm3)')\n",
    "plt.savefig('Tumor Volume Progression-s185')\n",
    "plt.show()"
   ]
  },
  {
   "cell_type": "code",
   "execution_count": null,
   "metadata": {},
   "outputs": [],
   "source": [
    "# Generate a scatter plot of average tumor volume vs. mouse weight for the Capomulin regimen\n",
    "cap_avg_df = cap_df.groupby(['Mouse ID']).mean()# Compute an averaged df; all fields may not make sense\n",
    "plt.scatter(cap_avg_df['Weight (g)'],cap_avg_df['Tumor Volume (mm3)'])\n",
    "plt.xlabel('Weight (g)')\n",
    "plt.ylabel('Average Tumor Volume (mm3)')\n",
    "\n",
    "plt.savefig('Avg Tumor Vol vs Weight-Capomulin')\n",
    "plt.show()"
   ]
  },
  {
   "cell_type": "markdown",
   "metadata": {},
   "source": [
    "## Correlation and Regression"
   ]
  },
  {
   "cell_type": "code",
   "execution_count": null,
   "metadata": {},
   "outputs": [],
   "source": [
    "# Calculate the correlation coefficient and linear regression model \n",
    "# for mouse weight and average tumor volume for the Capomulin regimen\n",
    "corr=round(st.pearsonr(cap_avg_df['Weight (g)'],cap_avg_df['Tumor Volume (mm3)'])[0],2)\n",
    "print(f\"The correlation between mouse weight and average tumor volume is {corr}\")"
   ]
  },
  {
   "cell_type": "code",
   "execution_count": null,
   "metadata": {},
   "outputs": [],
   "source": [
    "from scipy.stats import linregress\n",
    "(slope, intercept, rvalue, pvalue, stderr) = linregress(x_values, y_values)\n",
    "regress_values = x_values * slope + intercept\n",
    "line_eq = \"y = \" + str(round(slope,2)) + \"x + \" + str(round(intercept,2))\n",
    "plt.scatter(x_values,y_values)\n",
    "plt.plot(x_values,regress_values,\"r-\")\n",
    "plt.annotate(line_eq,(6,10),fontsize=15,color=\"red\")\n",
    "plt.xlabel('Weight (g)')\n",
    "plt.ylabel('Average Tumor Volume (mm3)')\n",
    "# Print out the r-squared value along with the plot.\n",
    "print(f\"The r-squared is: {rvalue}\")\n",
    "plt.savefig('Avg Tumor Vol vs Weight-Capomulin w regression')\n",
    "plt.show()"
   ]
  },
  {
   "cell_type": "code",
   "execution_count": null,
   "metadata": {},
   "outputs": [],
   "source": []
  }
 ],
 "metadata": {
  "anaconda-cloud": {},
  "kernelspec": {
   "display_name": "Python 3 (ipykernel)",
   "language": "python",
   "name": "python3"
  },
  "language_info": {
   "codemirror_mode": {
    "name": "ipython",
    "version": 3
   },
   "file_extension": ".py",
   "mimetype": "text/x-python",
   "name": "python",
   "nbconvert_exporter": "python",
   "pygments_lexer": "ipython3",
   "version": "3.8.13"
  }
 },
 "nbformat": 4,
 "nbformat_minor": 4
}
